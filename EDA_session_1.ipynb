{
 "cells": [
  {
   "cell_type": "markdown",
   "id": "3149d6a6-489b-401c-90c9-b96274225ab1",
   "metadata": {},
   "source": [
    "=================EDA==============\n",
    "\n",
    "1)Pandas:Data frame applications\n",
    "\n",
    "2)numpy:Numerical python All math applications\n",
    "\n",
    "3)Matplotlib:used for plotting\n",
    "\n",
    "4)seaborn:used for plotting\n",
    "\n",
    "5)plotly:used for plotting\n",
    "\n",
    "6)bokhe:used for plotting \n",
    "\n",
    "==================ML==============\n",
    "\n",
    "1)sickit_learn:sklearn\n",
    "\n",
    "================DL===============\n",
    "\n",
    "1)tensorflow:it is developed by google\n",
    "\n",
    "2)keras :also developed by google \n",
    "\n",
    "3)pytorch: by facebook\n",
    "\n",
    "===========NLP===========\n",
    "\n",
    "1)NLTK: natural language tool kit\n",
    "\n",
    "2)scipy:\n",
    "\n",
    "=================BERT=============\n",
    "\n",
    "1)transformers:hugging face(google)\n",
    "\n",
    "====================google models==============\n",
    "\n",
    "1)specific google packages\n",
    "\n",
    "======================Azure ML===================\n",
    "\n",
    "1)azure packages\n",
    "\n",
    "======================GenAI=================\n",
    "\n",
    "1)geminiai:google\n",
    "\n",
    "2)chatgpt:openai\n",
    "\n",
    "====================langchain==============\n",
    "\n",
    "1)langchain packages\n"
   ]
  },
  {
   "cell_type": "code",
   "execution_count": 2,
   "id": "0537dc95-db15-4a3e-a3bb-35c0223a56f6",
   "metadata": {},
   "outputs": [
    {
     "data": {
      "text/plain": [
       "300"
      ]
     },
     "execution_count": 2,
     "metadata": {},
     "output_type": "execute_result"
    }
   ],
   "source": [
    "a=100\n",
    "b=200\n",
    "c=a+b\n",
    "c"
   ]
  },
  {
   "cell_type": "markdown",
   "id": "b30481ea-c703-4b92-bcac-668da5cec676",
   "metadata": {},
   "source": [
    "**Create a data frame using list**"
   ]
  },
  {
   "cell_type": "markdown",
   "id": "f0698045-8a56-41d3-a1b1-298a8e438ef3",
   "metadata": {},
   "source": [
    "$step-1$\n",
    "\n",
    "create empty data frame"
   ]
  },
  {
   "cell_type": "code",
   "execution_count": 3,
   "id": "eb562629-a9dd-4c8b-a04e-30e0912345a0",
   "metadata": {},
   "outputs": [
    {
     "data": {
      "text/html": [
       "<div>\n",
       "<style scoped>\n",
       "    .dataframe tbody tr th:only-of-type {\n",
       "        vertical-align: middle;\n",
       "    }\n",
       "\n",
       "    .dataframe tbody tr th {\n",
       "        vertical-align: top;\n",
       "    }\n",
       "\n",
       "    .dataframe thead th {\n",
       "        text-align: right;\n",
       "    }\n",
       "</style>\n",
       "<table border=\"1\" class=\"dataframe\">\n",
       "  <thead>\n",
       "    <tr style=\"text-align: right;\">\n",
       "      <th></th>\n",
       "    </tr>\n",
       "  </thead>\n",
       "  <tbody>\n",
       "  </tbody>\n",
       "</table>\n",
       "</div>"
      ],
      "text/plain": [
       "Empty DataFrame\n",
       "Columns: []\n",
       "Index: []"
      ]
     },
     "execution_count": 3,
     "metadata": {},
     "output_type": "execute_result"
    }
   ],
   "source": [
    "import pandas as pd\n",
    "names=['ayush','avinash','akash']\n",
    "pd.DataFrame() #empty data frame will create no rows and no columns"
   ]
  },
  {
   "cell_type": "markdown",
   "id": "87fffea1-0450-4fff-a840-79daa944f993",
   "metadata": {},
   "source": [
    "$step-2$\n",
    "\n",
    "**provide data**"
   ]
  },
  {
   "cell_type": "code",
   "execution_count": 4,
   "id": "e8f61004-bcce-458a-8541-63e141409b56",
   "metadata": {},
   "outputs": [
    {
     "data": {
      "text/html": [
       "<div>\n",
       "<style scoped>\n",
       "    .dataframe tbody tr th:only-of-type {\n",
       "        vertical-align: middle;\n",
       "    }\n",
       "\n",
       "    .dataframe tbody tr th {\n",
       "        vertical-align: top;\n",
       "    }\n",
       "\n",
       "    .dataframe thead th {\n",
       "        text-align: right;\n",
       "    }\n",
       "</style>\n",
       "<table border=\"1\" class=\"dataframe\">\n",
       "  <thead>\n",
       "    <tr style=\"text-align: right;\">\n",
       "      <th></th>\n",
       "      <th>name</th>\n",
       "      <th>age</th>\n",
       "    </tr>\n",
       "  </thead>\n",
       "  <tbody>\n",
       "    <tr>\n",
       "      <th>0</th>\n",
       "      <td>ayush</td>\n",
       "      <td>12</td>\n",
       "    </tr>\n",
       "    <tr>\n",
       "      <th>1</th>\n",
       "      <td>avinash</td>\n",
       "      <td>13</td>\n",
       "    </tr>\n",
       "    <tr>\n",
       "      <th>2</th>\n",
       "      <td>akash</td>\n",
       "      <td>16</td>\n",
       "    </tr>\n",
       "  </tbody>\n",
       "</table>\n",
       "</div>"
      ],
      "text/plain": [
       "      name  age\n",
       "0    ayush   12\n",
       "1  avinash   13\n",
       "2    akash   16"
      ]
     },
     "execution_count": 4,
     "metadata": {},
     "output_type": "execute_result"
    }
   ],
   "source": [
    "import pandas as pd\n",
    "names=['ayush','avinash','akash']\n",
    "age=[12,13,16]\n",
    "l1=['name','age']\n",
    "pd.DataFrame(zip(names,age),columns=l1)\n",
    "#first poritional argument:data\n",
    "#second positional arg:index"
   ]
  },
  {
   "cell_type": "code",
   "execution_count": 5,
   "id": "8ab1805a-1a35-49b5-abae-81ff0e533a47",
   "metadata": {},
   "outputs": [
    {
     "data": {
      "text/html": [
       "<div>\n",
       "<style scoped>\n",
       "    .dataframe tbody tr th:only-of-type {\n",
       "        vertical-align: middle;\n",
       "    }\n",
       "\n",
       "    .dataframe tbody tr th {\n",
       "        vertical-align: top;\n",
       "    }\n",
       "\n",
       "    .dataframe thead th {\n",
       "        text-align: right;\n",
       "    }\n",
       "</style>\n",
       "<table border=\"1\" class=\"dataframe\">\n",
       "  <thead>\n",
       "    <tr style=\"text-align: right;\">\n",
       "      <th></th>\n",
       "      <th>name</th>\n",
       "      <th>age</th>\n",
       "      <th>city</th>\n",
       "    </tr>\n",
       "  </thead>\n",
       "  <tbody>\n",
       "    <tr>\n",
       "      <th>0</th>\n",
       "      <td>ayush</td>\n",
       "      <td>12</td>\n",
       "      <td>hyd</td>\n",
       "    </tr>\n",
       "    <tr>\n",
       "      <th>1</th>\n",
       "      <td>avinash</td>\n",
       "      <td>13</td>\n",
       "      <td>blr</td>\n",
       "    </tr>\n",
       "    <tr>\n",
       "      <th>2</th>\n",
       "      <td>akash</td>\n",
       "      <td>16</td>\n",
       "      <td>che</td>\n",
       "    </tr>\n",
       "  </tbody>\n",
       "</table>\n",
       "</div>"
      ],
      "text/plain": [
       "      name  age city\n",
       "0    ayush   12  hyd\n",
       "1  avinash   13  blr\n",
       "2    akash   16  che"
      ]
     },
     "execution_count": 5,
     "metadata": {},
     "output_type": "execute_result"
    }
   ],
   "source": [
    "import pandas as pd\n",
    "names=['ayush','avinash','akash']\n",
    "city=[\"hyd\",\"blr\",\"che\"]\n",
    "l1=['name','age','city']\n",
    "age=[12,13,16]\n",
    "pd.DataFrame(zip(names,age,city),columns=l1)"
   ]
  },
  {
   "cell_type": "markdown",
   "id": "daf7ac32-6bc3-4aed-8b45-66ee64ad5840",
   "metadata": {},
   "source": [
    "$Step-3$\n",
    "\n",
    "**provide the column names**\n"
   ]
  },
  {
   "cell_type": "code",
   "execution_count": 6,
   "id": "d9bfaa02-220a-4648-970e-b6d6c6cba34a",
   "metadata": {},
   "outputs": [
    {
     "data": {
      "text/html": [
       "<div>\n",
       "<style scoped>\n",
       "    .dataframe tbody tr th:only-of-type {\n",
       "        vertical-align: middle;\n",
       "    }\n",
       "\n",
       "    .dataframe tbody tr th {\n",
       "        vertical-align: top;\n",
       "    }\n",
       "\n",
       "    .dataframe thead th {\n",
       "        text-align: right;\n",
       "    }\n",
       "</style>\n",
       "<table border=\"1\" class=\"dataframe\">\n",
       "  <thead>\n",
       "    <tr style=\"text-align: right;\">\n",
       "      <th></th>\n",
       "      <th>name</th>\n",
       "      <th>age</th>\n",
       "      <th>city</th>\n",
       "    </tr>\n",
       "  </thead>\n",
       "  <tbody>\n",
       "    <tr>\n",
       "      <th>0</th>\n",
       "      <td>ayush</td>\n",
       "      <td>12</td>\n",
       "      <td>hyd</td>\n",
       "    </tr>\n",
       "    <tr>\n",
       "      <th>1</th>\n",
       "      <td>avinash</td>\n",
       "      <td>13</td>\n",
       "      <td>blr</td>\n",
       "    </tr>\n",
       "    <tr>\n",
       "      <th>2</th>\n",
       "      <td>akash</td>\n",
       "      <td>16</td>\n",
       "      <td>che</td>\n",
       "    </tr>\n",
       "  </tbody>\n",
       "</table>\n",
       "</div>"
      ],
      "text/plain": [
       "      name  age city\n",
       "0    ayush   12  hyd\n",
       "1  avinash   13  blr\n",
       "2    akash   16  che"
      ]
     },
     "execution_count": 6,
     "metadata": {},
     "output_type": "execute_result"
    }
   ],
   "source": [
    "import pandas as pd\n",
    "names=['ayush','avinash','akash']\n",
    "city=[\"hyd\",\"blr\",\"che\"]\n",
    "l1=['name','age','city']\n",
    "data=zip(names,age,city)\n",
    "age=[12,13,16]\n",
    "pd.DataFrame(data,columns=l1)\n"
   ]
  },
  {
   "cell_type": "code",
   "execution_count": 7,
   "id": "4b821c0a-f97e-4548-bfba-6498014f3ebe",
   "metadata": {},
   "outputs": [
    {
     "data": {
      "text/plain": [
       "pandas.core.frame.DataFrame"
      ]
     },
     "execution_count": 7,
     "metadata": {},
     "output_type": "execute_result"
    }
   ],
   "source": [
    "import pandas as pd\n",
    "names=['ayush','avinash','akash']\n",
    "city=[\"hyd\",\"blr\",\"che\"]\n",
    "l1=['name','age','city']\n",
    "data=zip(names,age,city)\n",
    "age=[12,13,16]\n",
    "df=pd.DataFrame(data,columns=l1)\n",
    "type(df)"
   ]
  },
  {
   "cell_type": "markdown",
   "id": "ae057fd8-0f97-4510-a9bd-37439e93bce1",
   "metadata": {},
   "source": [
    "$step-4$\n",
    "\n",
    "**add new column**"
   ]
  },
  {
   "cell_type": "markdown",
   "id": "66cf3178-c435-432f-95a2-c95d3d107635",
   "metadata": {},
   "source": [
    "- if you want to add new column\n",
    "\n",
    "- first you need o check the number of rows in already existed data\n",
    "\n",
    "- for example in above the dataframes has 3 rows\n",
    "\n",
    "- you need to create a new list with 3 rows\n",
    "\n",
    "- that list equate to the dataframe "
   ]
  },
  {
   "cell_type": "code",
   "execution_count": 8,
   "id": "bae58e88-c6a1-4166-849c-73f26e6c64b2",
   "metadata": {},
   "outputs": [
    {
     "data": {
      "text/html": [
       "<div>\n",
       "<style scoped>\n",
       "    .dataframe tbody tr th:only-of-type {\n",
       "        vertical-align: middle;\n",
       "    }\n",
       "\n",
       "    .dataframe tbody tr th {\n",
       "        vertical-align: top;\n",
       "    }\n",
       "\n",
       "    .dataframe thead th {\n",
       "        text-align: right;\n",
       "    }\n",
       "</style>\n",
       "<table border=\"1\" class=\"dataframe\">\n",
       "  <thead>\n",
       "    <tr style=\"text-align: right;\">\n",
       "      <th></th>\n",
       "      <th>name</th>\n",
       "      <th>age</th>\n",
       "      <th>city</th>\n",
       "      <th>job</th>\n",
       "    </tr>\n",
       "  </thead>\n",
       "  <tbody>\n",
       "    <tr>\n",
       "      <th>0</th>\n",
       "      <td>ayush</td>\n",
       "      <td>12</td>\n",
       "      <td>hyd</td>\n",
       "      <td>data analyst</td>\n",
       "    </tr>\n",
       "    <tr>\n",
       "      <th>1</th>\n",
       "      <td>avinash</td>\n",
       "      <td>13</td>\n",
       "      <td>blr</td>\n",
       "      <td>data scientist</td>\n",
       "    </tr>\n",
       "    <tr>\n",
       "      <th>2</th>\n",
       "      <td>akash</td>\n",
       "      <td>16</td>\n",
       "      <td>che</td>\n",
       "      <td>data engineer</td>\n",
       "    </tr>\n",
       "  </tbody>\n",
       "</table>\n",
       "</div>"
      ],
      "text/plain": [
       "      name  age city             job\n",
       "0    ayush   12  hyd    data analyst\n",
       "1  avinash   13  blr  data scientist\n",
       "2    akash   16  che   data engineer"
      ]
     },
     "execution_count": 8,
     "metadata": {},
     "output_type": "execute_result"
    }
   ],
   "source": [
    "import pandas as pd\n",
    "names=['ayush','avinash','akash']\n",
    "city=[\"hyd\",\"blr\",\"che\"]\n",
    "l1=['name','age','city','job']\n",
    "jobs=['data analyst','data scientist','data engineer']\n",
    "data=zip(names,age,city,jobs)\n",
    "age=[12,13,16]\n",
    "df=pd.DataFrame(data,columns=l1)\n",
    "df"
   ]
  },
  {
   "cell_type": "markdown",
   "id": "9396aea4-6a61-4692-9e8d-c108a5e79777",
   "metadata": {},
   "source": [
    "$step-5$\n",
    "\n",
    "**update already existed column**"
   ]
  },
  {
   "cell_type": "code",
   "execution_count": 9,
   "id": "8511dc79-18a4-435d-80db-5f091f468f7a",
   "metadata": {},
   "outputs": [
    {
     "data": {
      "text/html": [
       "<div>\n",
       "<style scoped>\n",
       "    .dataframe tbody tr th:only-of-type {\n",
       "        vertical-align: middle;\n",
       "    }\n",
       "\n",
       "    .dataframe tbody tr th {\n",
       "        vertical-align: top;\n",
       "    }\n",
       "\n",
       "    .dataframe thead th {\n",
       "        text-align: right;\n",
       "    }\n",
       "</style>\n",
       "<table border=\"1\" class=\"dataframe\">\n",
       "  <thead>\n",
       "    <tr style=\"text-align: right;\">\n",
       "      <th></th>\n",
       "      <th>name</th>\n",
       "      <th>age</th>\n",
       "      <th>city</th>\n",
       "      <th>job</th>\n",
       "    </tr>\n",
       "  </thead>\n",
       "  <tbody>\n",
       "    <tr>\n",
       "      <th>0</th>\n",
       "      <td>ayush</td>\n",
       "      <td>31</td>\n",
       "      <td>hyd</td>\n",
       "      <td>data analyst</td>\n",
       "    </tr>\n",
       "    <tr>\n",
       "      <th>1</th>\n",
       "      <td>avinash</td>\n",
       "      <td>32</td>\n",
       "      <td>blr</td>\n",
       "      <td>data scientist</td>\n",
       "    </tr>\n",
       "    <tr>\n",
       "      <th>2</th>\n",
       "      <td>akash</td>\n",
       "      <td>33</td>\n",
       "      <td>che</td>\n",
       "      <td>data engineer</td>\n",
       "    </tr>\n",
       "  </tbody>\n",
       "</table>\n",
       "</div>"
      ],
      "text/plain": [
       "      name  age city             job\n",
       "0    ayush   31  hyd    data analyst\n",
       "1  avinash   32  blr  data scientist\n",
       "2    akash   33  che   data engineer"
      ]
     },
     "execution_count": 9,
     "metadata": {},
     "output_type": "execute_result"
    }
   ],
   "source": [
    "import pandas as pd\n",
    "names=['ayush','avinash','akash']\n",
    "city=[\"hyd\",\"blr\",\"che\"]\n",
    "l1=['name','age','city','job']\n",
    "jobs=['data analyst','data scientist','data engineer']\n",
    "data=zip(names,age,city,jobs)\n",
    "age=[12,13,16]\n",
    "df=pd.DataFrame(data,columns=l1)\n",
    "df['age']=[31,32,33]\n",
    "df"
   ]
  },
  {
   "cell_type": "markdown",
   "id": "24dc7d1e-4bdc-4faa-bf99-16e741d3e612",
   "metadata": {},
   "source": [
    "$step-6$\n",
    "\n",
    "**how to change the index**"
   ]
  },
  {
   "cell_type": "code",
   "execution_count": 10,
   "id": "ce520458-5f8e-4a8a-8082-314e27c923ea",
   "metadata": {},
   "outputs": [
    {
     "ename": "ValueError",
     "evalue": "Length of values (3) does not match length of index (4)",
     "output_type": "error",
     "traceback": [
      "\u001b[1;31m---------------------------------------------------------------------------\u001b[0m",
      "\u001b[1;31mValueError\u001b[0m                                Traceback (most recent call last)",
      "Cell \u001b[1;32mIn[10], line 9\u001b[0m\n\u001b[0;32m      7\u001b[0m data\u001b[38;5;241m=\u001b[39m\u001b[38;5;28mzip\u001b[39m(names,age,city,jobs)\n\u001b[0;32m      8\u001b[0m age\u001b[38;5;241m=\u001b[39m[\u001b[38;5;241m12\u001b[39m,\u001b[38;5;241m13\u001b[39m,\u001b[38;5;241m16\u001b[39m,\u001b[38;5;241m21\u001b[39m]\n\u001b[1;32m----> 9\u001b[0m df\u001b[38;5;241m=\u001b[39mpd\u001b[38;5;241m.\u001b[39mDataFrame(data,index\u001b[38;5;241m=\u001b[39mix,columns\u001b[38;5;241m=\u001b[39ml1)\n\u001b[0;32m     10\u001b[0m df\n",
      "File \u001b[1;32m~\\anaconda3\\Lib\\site-packages\\pandas\\core\\frame.py:814\u001b[0m, in \u001b[0;36mDataFrame.__init__\u001b[1;34m(self, data, index, columns, dtype, copy)\u001b[0m\n\u001b[0;32m    805\u001b[0m         columns \u001b[38;5;241m=\u001b[39m ensure_index(columns)\n\u001b[0;32m    806\u001b[0m     arrays, columns, index \u001b[38;5;241m=\u001b[39m nested_data_to_arrays(\n\u001b[0;32m    807\u001b[0m         \u001b[38;5;66;03m# error: Argument 3 to \"nested_data_to_arrays\" has incompatible\u001b[39;00m\n\u001b[0;32m    808\u001b[0m         \u001b[38;5;66;03m# type \"Optional[Collection[Any]]\"; expected \"Optional[Index]\"\u001b[39;00m\n\u001b[1;32m   (...)\u001b[0m\n\u001b[0;32m    812\u001b[0m         dtype,\n\u001b[0;32m    813\u001b[0m     )\n\u001b[1;32m--> 814\u001b[0m     mgr \u001b[38;5;241m=\u001b[39m arrays_to_mgr(\n\u001b[0;32m    815\u001b[0m         arrays,\n\u001b[0;32m    816\u001b[0m         columns,\n\u001b[0;32m    817\u001b[0m         index,\n\u001b[0;32m    818\u001b[0m         dtype\u001b[38;5;241m=\u001b[39mdtype,\n\u001b[0;32m    819\u001b[0m         typ\u001b[38;5;241m=\u001b[39mmanager,\n\u001b[0;32m    820\u001b[0m     )\n\u001b[0;32m    821\u001b[0m \u001b[38;5;28;01melse\u001b[39;00m:\n\u001b[0;32m    822\u001b[0m     mgr \u001b[38;5;241m=\u001b[39m ndarray_to_mgr(\n\u001b[0;32m    823\u001b[0m         data,\n\u001b[0;32m    824\u001b[0m         index,\n\u001b[1;32m   (...)\u001b[0m\n\u001b[0;32m    828\u001b[0m         typ\u001b[38;5;241m=\u001b[39mmanager,\n\u001b[0;32m    829\u001b[0m     )\n",
      "File \u001b[1;32m~\\anaconda3\\Lib\\site-packages\\pandas\\core\\internals\\construction.py:119\u001b[0m, in \u001b[0;36marrays_to_mgr\u001b[1;34m(arrays, columns, index, dtype, verify_integrity, typ, consolidate)\u001b[0m\n\u001b[0;32m    116\u001b[0m         index \u001b[38;5;241m=\u001b[39m ensure_index(index)\n\u001b[0;32m    118\u001b[0m     \u001b[38;5;66;03m# don't force copy because getting jammed in an ndarray anyway\u001b[39;00m\n\u001b[1;32m--> 119\u001b[0m     arrays, refs \u001b[38;5;241m=\u001b[39m _homogenize(arrays, index, dtype)\n\u001b[0;32m    120\u001b[0m     \u001b[38;5;66;03m# _homogenize ensures\u001b[39;00m\n\u001b[0;32m    121\u001b[0m     \u001b[38;5;66;03m#  - all(len(x) == len(index) for x in arrays)\u001b[39;00m\n\u001b[0;32m    122\u001b[0m     \u001b[38;5;66;03m#  - all(x.ndim == 1 for x in arrays)\u001b[39;00m\n\u001b[1;32m   (...)\u001b[0m\n\u001b[0;32m    125\u001b[0m \n\u001b[0;32m    126\u001b[0m \u001b[38;5;28;01melse\u001b[39;00m:\n\u001b[0;32m    127\u001b[0m     index \u001b[38;5;241m=\u001b[39m ensure_index(index)\n",
      "File \u001b[1;32m~\\anaconda3\\Lib\\site-packages\\pandas\\core\\internals\\construction.py:630\u001b[0m, in \u001b[0;36m_homogenize\u001b[1;34m(data, index, dtype)\u001b[0m\n\u001b[0;32m    627\u001b[0m         val \u001b[38;5;241m=\u001b[39m lib\u001b[38;5;241m.\u001b[39mfast_multiget(val, oindex\u001b[38;5;241m.\u001b[39m_values, default\u001b[38;5;241m=\u001b[39mnp\u001b[38;5;241m.\u001b[39mnan)\n\u001b[0;32m    629\u001b[0m     val \u001b[38;5;241m=\u001b[39m sanitize_array(val, index, dtype\u001b[38;5;241m=\u001b[39mdtype, copy\u001b[38;5;241m=\u001b[39m\u001b[38;5;28;01mFalse\u001b[39;00m)\n\u001b[1;32m--> 630\u001b[0m     com\u001b[38;5;241m.\u001b[39mrequire_length_match(val, index)\n\u001b[0;32m    631\u001b[0m     refs\u001b[38;5;241m.\u001b[39mappend(\u001b[38;5;28;01mNone\u001b[39;00m)\n\u001b[0;32m    633\u001b[0m homogenized\u001b[38;5;241m.\u001b[39mappend(val)\n",
      "File \u001b[1;32m~\\anaconda3\\Lib\\site-packages\\pandas\\core\\common.py:561\u001b[0m, in \u001b[0;36mrequire_length_match\u001b[1;34m(data, index)\u001b[0m\n\u001b[0;32m    557\u001b[0m \u001b[38;5;250m\u001b[39m\u001b[38;5;124;03m\"\"\"\u001b[39;00m\n\u001b[0;32m    558\u001b[0m \u001b[38;5;124;03mCheck the length of data matches the length of the index.\u001b[39;00m\n\u001b[0;32m    559\u001b[0m \u001b[38;5;124;03m\"\"\"\u001b[39;00m\n\u001b[0;32m    560\u001b[0m \u001b[38;5;28;01mif\u001b[39;00m \u001b[38;5;28mlen\u001b[39m(data) \u001b[38;5;241m!=\u001b[39m \u001b[38;5;28mlen\u001b[39m(index):\n\u001b[1;32m--> 561\u001b[0m     \u001b[38;5;28;01mraise\u001b[39;00m \u001b[38;5;167;01mValueError\u001b[39;00m(\n\u001b[0;32m    562\u001b[0m         \u001b[38;5;124m\"\u001b[39m\u001b[38;5;124mLength of values \u001b[39m\u001b[38;5;124m\"\u001b[39m\n\u001b[0;32m    563\u001b[0m         \u001b[38;5;124mf\u001b[39m\u001b[38;5;124m\"\u001b[39m\u001b[38;5;124m(\u001b[39m\u001b[38;5;132;01m{\u001b[39;00m\u001b[38;5;28mlen\u001b[39m(data)\u001b[38;5;132;01m}\u001b[39;00m\u001b[38;5;124m) \u001b[39m\u001b[38;5;124m\"\u001b[39m\n\u001b[0;32m    564\u001b[0m         \u001b[38;5;124m\"\u001b[39m\u001b[38;5;124mdoes not match length of index \u001b[39m\u001b[38;5;124m\"\u001b[39m\n\u001b[0;32m    565\u001b[0m         \u001b[38;5;124mf\u001b[39m\u001b[38;5;124m\"\u001b[39m\u001b[38;5;124m(\u001b[39m\u001b[38;5;132;01m{\u001b[39;00m\u001b[38;5;28mlen\u001b[39m(index)\u001b[38;5;132;01m}\u001b[39;00m\u001b[38;5;124m)\u001b[39m\u001b[38;5;124m\"\u001b[39m\n\u001b[0;32m    566\u001b[0m     )\n",
      "\u001b[1;31mValueError\u001b[0m: Length of values (3) does not match length of index (4)"
     ]
    }
   ],
   "source": [
    "import pandas as pd\n",
    "names=['venu penu','venky monkey','pavan','vinay']\n",
    "city=[\"hyd\",\"blr\",\"che\",'hyd']\n",
    "l1=['name','age','city','job']\n",
    "ix=['A','B','C','D']\n",
    "jobs=['data analyst','data scientist','data engineer','student']\n",
    "data=zip(names,age,city,jobs)\n",
    "age=[12,13,16,21]\n",
    "df=pd.DataFrame(data,index=ix,columns=l1)\n",
    "df"
   ]
  },
  {
   "cell_type": "markdown",
   "id": "71941e3c-1c84-4f89-945e-28d3151dcdd0",
   "metadata": {},
   "source": [
    "**note**\n",
    "- number of list equals to number of columns\n",
    "\n",
    "- number of values inside list equals to **number of rows**\n",
    "\n",
    "- when you create the data all the lists will be in same length"
   ]
  },
  {
   "cell_type": "markdown",
   "id": "62dac48d-025f-4d12-97e2-a603247a3bdb",
   "metadata": {},
   "source": [
    " "
   ]
  },
  {
   "cell_type": "markdown",
   "id": "f63c3230-a064-43d1-a8af-35c311e550b7",
   "metadata": {},
   "source": [
    "$step-7$\n",
    "\n",
    "**shape**\n",
    "\n",
    "- number of rows\n",
    "\n",
    "- number of columns"
   ]
  },
  {
   "cell_type": "code",
   "execution_count": 11,
   "id": "b21b6d7a-e602-4869-b4cf-4903aa2df5f0",
   "metadata": {},
   "outputs": [
    {
     "data": {
      "text/plain": [
       "(3, 4)"
      ]
     },
     "execution_count": 11,
     "metadata": {},
     "output_type": "execute_result"
    }
   ],
   "source": [
    "df.shape\n",
    "#matrix format\n",
    "#4 rows and 4 columns"
   ]
  },
  {
   "cell_type": "code",
   "execution_count": 12,
   "id": "69a9b7b7-b44e-4cee-b14a-e7d76eca9b81",
   "metadata": {},
   "outputs": [
    {
     "name": "stdout",
     "output_type": "stream",
     "text": [
      "the number of rows are : 3\n"
     ]
    }
   ],
   "source": [
    "print(\"the number of rows are :\",df.shape[0])"
   ]
  },
  {
   "cell_type": "markdown",
   "id": "6a1d58b8-505c-4b04-91d8-763eb94fde80",
   "metadata": {},
   "source": [
    "$step-8$\n",
    "\n",
    "**how to drop the column**\n",
    "\n",
    "- in order to drop the column we req 3 arguments\n",
    "\n",
    "- column name\n",
    "  \n",
    "     - the column name we need to mention\n",
    "\n",
    "- axis\n",
    "\n",
    "  - axis=0 represents rows\n",
    "\n",
    "  - axis=1 represents columns\n",
    " \n",
    "- inplace\n",
    "\n",
    "    - we are drop the column means we are modifying the data frames\n",
    " \n",
    "    - so this modification we want to save in same variable or different variable\n",
    " \n",
    "    - if you want to keep in the same variable the **inplace=True**\n",
    "\n",
    "\n",
    "\n"
   ]
  },
  {
   "cell_type": "code",
   "execution_count": 13,
   "id": "701abd1c-a673-4a6e-8360-fb50dfb1c99f",
   "metadata": {},
   "outputs": [
    {
     "data": {
      "text/html": [
       "<div>\n",
       "<style scoped>\n",
       "    .dataframe tbody tr th:only-of-type {\n",
       "        vertical-align: middle;\n",
       "    }\n",
       "\n",
       "    .dataframe tbody tr th {\n",
       "        vertical-align: top;\n",
       "    }\n",
       "\n",
       "    .dataframe thead th {\n",
       "        text-align: right;\n",
       "    }\n",
       "</style>\n",
       "<table border=\"1\" class=\"dataframe\">\n",
       "  <thead>\n",
       "    <tr style=\"text-align: right;\">\n",
       "      <th></th>\n",
       "      <th>name</th>\n",
       "      <th>age</th>\n",
       "      <th>city</th>\n",
       "    </tr>\n",
       "  </thead>\n",
       "  <tbody>\n",
       "    <tr>\n",
       "      <th>0</th>\n",
       "      <td>ayush</td>\n",
       "      <td>31</td>\n",
       "      <td>hyd</td>\n",
       "    </tr>\n",
       "    <tr>\n",
       "      <th>1</th>\n",
       "      <td>avinash</td>\n",
       "      <td>32</td>\n",
       "      <td>blr</td>\n",
       "    </tr>\n",
       "    <tr>\n",
       "      <th>2</th>\n",
       "      <td>akash</td>\n",
       "      <td>33</td>\n",
       "      <td>che</td>\n",
       "    </tr>\n",
       "  </tbody>\n",
       "</table>\n",
       "</div>"
      ],
      "text/plain": [
       "      name  age city\n",
       "0    ayush   31  hyd\n",
       "1  avinash   32  blr\n",
       "2    akash   33  che"
      ]
     },
     "execution_count": 13,
     "metadata": {},
     "output_type": "execute_result"
    }
   ],
   "source": [
    "df.drop('job',axis=1,)"
   ]
  },
  {
   "cell_type": "markdown",
   "id": "820c13d8-37c6-4cb2-90e4-d04513978b66",
   "metadata": {},
   "source": [
    "$step-9$\n",
    "\n",
    "**multiple columns**"
   ]
  },
  {
   "cell_type": "code",
   "execution_count": null,
   "id": "1598261c-d763-4c82-bdf4-319379635509",
   "metadata": {},
   "outputs": [],
   "source": []
  },
  {
   "cell_type": "code",
   "execution_count": 14,
   "id": "af1797b6-b2a3-4ca0-ae4b-ebc04965edbe",
   "metadata": {},
   "outputs": [
    {
     "data": {
      "text/html": [
       "<div>\n",
       "<style scoped>\n",
       "    .dataframe tbody tr th:only-of-type {\n",
       "        vertical-align: middle;\n",
       "    }\n",
       "\n",
       "    .dataframe tbody tr th {\n",
       "        vertical-align: top;\n",
       "    }\n",
       "\n",
       "    .dataframe thead th {\n",
       "        text-align: right;\n",
       "    }\n",
       "</style>\n",
       "<table border=\"1\" class=\"dataframe\">\n",
       "  <thead>\n",
       "    <tr style=\"text-align: right;\">\n",
       "      <th></th>\n",
       "      <th>name</th>\n",
       "      <th>age</th>\n",
       "      <th>city</th>\n",
       "      <th>job</th>\n",
       "    </tr>\n",
       "  </thead>\n",
       "  <tbody>\n",
       "    <tr>\n",
       "      <th>0</th>\n",
       "      <td>ayush</td>\n",
       "      <td>31</td>\n",
       "      <td>hyd</td>\n",
       "      <td>data analyst</td>\n",
       "    </tr>\n",
       "    <tr>\n",
       "      <th>1</th>\n",
       "      <td>avinash</td>\n",
       "      <td>32</td>\n",
       "      <td>blr</td>\n",
       "      <td>data scientist</td>\n",
       "    </tr>\n",
       "    <tr>\n",
       "      <th>2</th>\n",
       "      <td>akash</td>\n",
       "      <td>33</td>\n",
       "      <td>che</td>\n",
       "      <td>data engineer</td>\n",
       "    </tr>\n",
       "  </tbody>\n",
       "</table>\n",
       "</div>"
      ],
      "text/plain": [
       "      name  age city             job\n",
       "0    ayush   31  hyd    data analyst\n",
       "1  avinash   32  blr  data scientist\n",
       "2    akash   33  che   data engineer"
      ]
     },
     "execution_count": 14,
     "metadata": {},
     "output_type": "execute_result"
    }
   ],
   "source": [
    "import pandas as pd\n",
    "names=['ayush','avinash','akash']\n",
    "city=[\"hyd\",\"blr\",\"che\"]\n",
    "l1=['name','age','city','job']\n",
    "jobs=['data analyst','data scientist','data engineer']\n",
    "data=zip(names,age,city,jobs)\n",
    "age=[12,13,16]\n",
    "df=pd.DataFrame(data,columns=l1)\n",
    "df['age']=[31,32,33]\n",
    "df"
   ]
  },
  {
   "cell_type": "code",
   "execution_count": 15,
   "id": "bf802ad1-d6ff-4dbf-8ce7-6507748f295e",
   "metadata": {},
   "outputs": [
    {
     "data": {
      "text/html": [
       "<div>\n",
       "<style scoped>\n",
       "    .dataframe tbody tr th:only-of-type {\n",
       "        vertical-align: middle;\n",
       "    }\n",
       "\n",
       "    .dataframe tbody tr th {\n",
       "        vertical-align: top;\n",
       "    }\n",
       "\n",
       "    .dataframe thead th {\n",
       "        text-align: right;\n",
       "    }\n",
       "</style>\n",
       "<table border=\"1\" class=\"dataframe\">\n",
       "  <thead>\n",
       "    <tr style=\"text-align: right;\">\n",
       "      <th></th>\n",
       "      <th>name</th>\n",
       "      <th>age</th>\n",
       "      <th>city</th>\n",
       "      <th>job</th>\n",
       "    </tr>\n",
       "  </thead>\n",
       "  <tbody>\n",
       "    <tr>\n",
       "      <th>2</th>\n",
       "      <td>akash</td>\n",
       "      <td>33</td>\n",
       "      <td>che</td>\n",
       "      <td>data engineer</td>\n",
       "    </tr>\n",
       "  </tbody>\n",
       "</table>\n",
       "</div>"
      ],
      "text/plain": [
       "    name  age city            job\n",
       "2  akash   33  che  data engineer"
      ]
     },
     "execution_count": 15,
     "metadata": {},
     "output_type": "execute_result"
    }
   ],
   "source": [
    "df.drop([0,1],axis=0,inplace=True)\n",
    "df"
   ]
  },
  {
   "cell_type": "markdown",
   "id": "75275a50-2c50-4baf-b11d-a113ab0a7882",
   "metadata": {},
   "source": [
    "$step-11$\n",
    "\n",
    "**how to save the data frame**\n",
    "\n",
    "  - generally data frames are two types\n",
    "\n",
    "  - csv(comma seperated value)\n",
    "\n",
    "  - excel"
   ]
  },
  {
   "cell_type": "code",
   "execution_count": 16,
   "id": "34d30871-6389-4873-95d6-eac0bc6c024d",
   "metadata": {},
   "outputs": [
    {
     "data": {
      "text/html": [
       "<div>\n",
       "<style scoped>\n",
       "    .dataframe tbody tr th:only-of-type {\n",
       "        vertical-align: middle;\n",
       "    }\n",
       "\n",
       "    .dataframe tbody tr th {\n",
       "        vertical-align: top;\n",
       "    }\n",
       "\n",
       "    .dataframe thead th {\n",
       "        text-align: right;\n",
       "    }\n",
       "</style>\n",
       "<table border=\"1\" class=\"dataframe\">\n",
       "  <thead>\n",
       "    <tr style=\"text-align: right;\">\n",
       "      <th></th>\n",
       "      <th>name</th>\n",
       "      <th>age</th>\n",
       "      <th>city</th>\n",
       "      <th>job</th>\n",
       "    </tr>\n",
       "  </thead>\n",
       "  <tbody>\n",
       "    <tr>\n",
       "      <th>2</th>\n",
       "      <td>akash</td>\n",
       "      <td>33</td>\n",
       "      <td>che</td>\n",
       "      <td>data engineer</td>\n",
       "    </tr>\n",
       "  </tbody>\n",
       "</table>\n",
       "</div>"
      ],
      "text/plain": [
       "    name  age city            job\n",
       "2  akash   33  che  data engineer"
      ]
     },
     "execution_count": 16,
     "metadata": {},
     "output_type": "execute_result"
    }
   ],
   "source": [
    "df"
   ]
  },
  {
   "cell_type": "code",
   "execution_count": 17,
   "id": "acc233c5-a93b-4e4e-9266-8cb3b5251029",
   "metadata": {},
   "outputs": [
    {
     "data": {
      "text/html": [
       "<div>\n",
       "<style scoped>\n",
       "    .dataframe tbody tr th:only-of-type {\n",
       "        vertical-align: middle;\n",
       "    }\n",
       "\n",
       "    .dataframe tbody tr th {\n",
       "        vertical-align: top;\n",
       "    }\n",
       "\n",
       "    .dataframe thead th {\n",
       "        text-align: right;\n",
       "    }\n",
       "</style>\n",
       "<table border=\"1\" class=\"dataframe\">\n",
       "  <thead>\n",
       "    <tr style=\"text-align: right;\">\n",
       "      <th></th>\n",
       "      <th>name</th>\n",
       "      <th>age</th>\n",
       "      <th>city</th>\n",
       "      <th>job</th>\n",
       "    </tr>\n",
       "  </thead>\n",
       "  <tbody>\n",
       "    <tr>\n",
       "      <th>0</th>\n",
       "      <td>ayush</td>\n",
       "      <td>31</td>\n",
       "      <td>hyd</td>\n",
       "      <td>data analyst</td>\n",
       "    </tr>\n",
       "    <tr>\n",
       "      <th>1</th>\n",
       "      <td>avinash</td>\n",
       "      <td>32</td>\n",
       "      <td>blr</td>\n",
       "      <td>data scientist</td>\n",
       "    </tr>\n",
       "    <tr>\n",
       "      <th>2</th>\n",
       "      <td>akash</td>\n",
       "      <td>33</td>\n",
       "      <td>che</td>\n",
       "      <td>data engineer</td>\n",
       "    </tr>\n",
       "  </tbody>\n",
       "</table>\n",
       "</div>"
      ],
      "text/plain": [
       "      name  age city             job\n",
       "0    ayush   31  hyd    data analyst\n",
       "1  avinash   32  blr  data scientist\n",
       "2    akash   33  che   data engineer"
      ]
     },
     "execution_count": 17,
     "metadata": {},
     "output_type": "execute_result"
    }
   ],
   "source": [
    "import pandas as pd\n",
    "names=['ayush','avinash','akash']\n",
    "city=[\"hyd\",\"blr\",\"che\"]\n",
    "l1=['name','age','city','job']\n",
    "jobs=['data analyst','data scientist','data engineer']\n",
    "data=zip(names,age,city,jobs)\n",
    "age=[12,13,16]\n",
    "df=pd.DataFrame(data,columns=l1)\n",
    "df['age']=[31,32,33]\n",
    "df"
   ]
  },
  {
   "cell_type": "code",
   "execution_count": 19,
   "id": "eca6f76d-3de3-459f-9884-c70b0e214387",
   "metadata": {},
   "outputs": [],
   "source": [
    "df.to_csv(\"file2.csv\",index=False)"
   ]
  },
  {
   "cell_type": "code",
   "execution_count": 21,
   "id": "ace19466-b2cc-48ec-8e38-3c45a2a9c533",
   "metadata": {},
   "outputs": [],
   "source": [
    "df.to_excel(\"file4.xlsx\",index=False)"
   ]
  },
  {
   "cell_type": "code",
   "execution_count": null,
   "id": "ac358ef6-ed2f-4f66-adc5-97f9221cfbe6",
   "metadata": {},
   "outputs": [],
   "source": []
  }
 ],
 "metadata": {
  "kernelspec": {
   "display_name": "Python 3 (ipykernel)",
   "language": "python",
   "name": "python3"
  },
  "language_info": {
   "codemirror_mode": {
    "name": "ipython",
    "version": 3
   },
   "file_extension": ".py",
   "mimetype": "text/x-python",
   "name": "python",
   "nbconvert_exporter": "python",
   "pygments_lexer": "ipython3",
   "version": "3.11.7"
  }
 },
 "nbformat": 4,
 "nbformat_minor": 5
}
